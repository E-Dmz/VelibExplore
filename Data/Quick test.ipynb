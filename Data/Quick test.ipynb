{
 "cells": [
  {
   "cell_type": "code",
   "execution_count": 1,
   "id": "196bb9ad",
   "metadata": {
    "ExecuteTime": {
     "end_time": "2021-10-27T22:48:31.549687Z",
     "start_time": "2021-10-27T22:48:28.103454Z"
    }
   },
   "outputs": [],
   "source": [
    "import pandas as pd"
   ]
  },
  {
   "cell_type": "code",
   "execution_count": 2,
   "id": "80aa9670",
   "metadata": {
    "ExecuteTime": {
     "end_time": "2021-10-27T22:49:11.061794Z",
     "start_time": "2021-10-27T22:48:53.960134Z"
    }
   },
   "outputs": [],
   "source": [
    "data = pd.read_csv('test-1m.csv')"
   ]
  },
  {
   "cell_type": "code",
   "execution_count": 4,
   "id": "a1b93a2a",
   "metadata": {
    "ExecuteTime": {
     "end_time": "2021-10-27T22:49:36.772486Z",
     "start_time": "2021-10-27T22:49:27.962084Z"
    }
   },
   "outputs": [
    {
     "data": {
      "text/plain": [
       "2419907"
      ]
     },
     "execution_count": 4,
     "metadata": {},
     "output_type": "execute_result"
    }
   ],
   "source": [
    "len(data)"
   ]
  },
  {
   "cell_type": "code",
   "execution_count": 5,
   "id": "54e47333",
   "metadata": {
    "ExecuteTime": {
     "end_time": "2021-10-27T22:49:41.946286Z",
     "start_time": "2021-10-27T22:49:40.031232Z"
    }
   },
   "outputs": [
    {
     "data": {
      "text/html": [
       "<div>\n",
       "<style scoped>\n",
       "    .dataframe tbody tr th:only-of-type {\n",
       "        vertical-align: middle;\n",
       "    }\n",
       "\n",
       "    .dataframe tbody tr th {\n",
       "        vertical-align: top;\n",
       "    }\n",
       "\n",
       "    .dataframe thead th {\n",
       "        text-align: right;\n",
       "    }\n",
       "</style>\n",
       "<table border=\"1\" class=\"dataframe\">\n",
       "  <thead>\n",
       "    <tr style=\"text-align: right;\">\n",
       "      <th></th>\n",
       "      <th>260633</th>\n",
       "      <th>16107</th>\n",
       "      <th>0</th>\n",
       "      <th>4</th>\n",
       "      <th>31</th>\n",
       "    </tr>\n",
       "  </thead>\n",
       "  <tbody>\n",
       "    <tr>\n",
       "      <th>2419902</th>\n",
       "      <td>272359</td>\n",
       "      <td>31301</td>\n",
       "      <td>0</td>\n",
       "      <td>0</td>\n",
       "      <td>0</td>\n",
       "    </tr>\n",
       "    <tr>\n",
       "      <th>2419903</th>\n",
       "      <td>272359</td>\n",
       "      <td>31303</td>\n",
       "      <td>0</td>\n",
       "      <td>0</td>\n",
       "      <td>0</td>\n",
       "    </tr>\n",
       "    <tr>\n",
       "      <th>2419904</th>\n",
       "      <td>272359</td>\n",
       "      <td>23204</td>\n",
       "      <td>0</td>\n",
       "      <td>0</td>\n",
       "      <td>0</td>\n",
       "    </tr>\n",
       "    <tr>\n",
       "      <th>2419905</th>\n",
       "      <td>272359</td>\n",
       "      <td>8002</td>\n",
       "      <td>0</td>\n",
       "      <td>5</td>\n",
       "      <td>39</td>\n",
       "    </tr>\n",
       "    <tr>\n",
       "      <th>2419906</th>\n",
       "      <td>272359</td>\n",
       "      <td>8004</td>\n",
       "      <td>3</td>\n",
       "      <td>1</td>\n",
       "      <td>62</td>\n",
       "    </tr>\n",
       "  </tbody>\n",
       "</table>\n",
       "</div>"
      ],
      "text/plain": [
       "         260633  16107  0  4  31\n",
       "2419902  272359  31301  0  0   0\n",
       "2419903  272359  31303  0  0   0\n",
       "2419904  272359  23204  0  0   0\n",
       "2419905  272359   8002  0  5  39\n",
       "2419906  272359   8004  3  1  62"
      ]
     },
     "execution_count": 5,
     "metadata": {},
     "output_type": "execute_result"
    }
   ],
   "source": [
    "data.tail()"
   ]
  },
  {
   "cell_type": "code",
   "execution_count": null,
   "id": "9bbc0f29",
   "metadata": {},
   "outputs": [],
   "source": []
  }
 ],
 "metadata": {
  "kernelspec": {
   "display_name": "Python 3 (ipykernel)",
   "language": "python",
   "name": "python3"
  },
  "language_info": {
   "codemirror_mode": {
    "name": "ipython",
    "version": 3
   },
   "file_extension": ".py",
   "mimetype": "text/x-python",
   "name": "python",
   "nbconvert_exporter": "python",
   "pygments_lexer": "ipython3",
   "version": "3.8.12"
  },
  "toc": {
   "base_numbering": 1,
   "nav_menu": {},
   "number_sections": true,
   "sideBar": true,
   "skip_h1_title": false,
   "title_cell": "Table of Contents",
   "title_sidebar": "Contents",
   "toc_cell": false,
   "toc_position": {},
   "toc_section_display": true,
   "toc_window_display": false
  }
 },
 "nbformat": 4,
 "nbformat_minor": 5
}
