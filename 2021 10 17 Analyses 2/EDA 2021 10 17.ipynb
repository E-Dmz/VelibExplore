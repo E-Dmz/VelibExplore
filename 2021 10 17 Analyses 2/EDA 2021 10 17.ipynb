{
 "cells": [
  {
   "cell_type": "markdown",
   "id": "009fbc0b",
   "metadata": {},
   "source": [
    "# Imports"
   ]
  },
  {
   "cell_type": "code",
   "execution_count": 89,
   "id": "c358480d",
   "metadata": {
    "ExecuteTime": {
     "end_time": "2021-10-17T18:43:23.459911Z",
     "start_time": "2021-10-17T18:43:23.454675Z"
    }
   },
   "outputs": [],
   "source": [
    "import pandas as pd\n",
    "import sqlite3\n",
    "import matplotlib.pyplot as plt\n",
    "import seaborn as sns"
   ]
  },
  {
   "cell_type": "markdown",
   "id": "25ff5b80",
   "metadata": {},
   "source": [
    "# Chargement des data:\n",
    "- 30 min (à faire)\n",
    "- 5 min"
   ]
  },
  {
   "cell_type": "code",
   "execution_count": 90,
   "id": "84401eda",
   "metadata": {
    "ExecuteTime": {
     "end_time": "2021-10-17T18:43:24.919291Z",
     "start_time": "2021-10-17T18:43:24.793816Z"
    }
   },
   "outputs": [
    {
     "name": "stdout",
     "output_type": "stream",
     "text": [
      "\u001b[01;34m..\u001b[00m\r\n",
      "├── \u001b[01;34m2021 10 15 Analyses 1\u001b[00m\r\n",
      "│   ├── 2021 10 15 test-5m.csv\r\n",
      "│   ├── Scraping.ipynb\r\n",
      "│   ├── Scraping.py\r\n",
      "│   ├── test-15-1.csv\r\n",
      "│   ├── test-5m.csv:Zone.Identifier\r\n",
      "│   ├── test.csv\r\n",
      "│   ├── Untitled.ipynb\r\n",
      "│   ├── \u001b[01;35mVelib01.png\u001b[00m\r\n",
      "│   └── Velib API.ipynb\r\n",
      "├── \u001b[01;34m2021 10 17 Analyses 2\u001b[00m\r\n",
      "│   └── EDA 2021 10 17.ipynb\r\n",
      "├── \u001b[01;34mData\u001b[00m\r\n",
      "│   ├── 2021 10 17 30m.csv\r\n",
      "│   └── 2021 10 17 5m.csv\r\n",
      "├── Scraping.py\r\n",
      "├── test-30m-10-17.csv:Zone.Identifier\r\n",
      "├── test-5m-10-17.csv:Zone.Identifier\r\n",
      "└── test.csv\r\n",
      "\r\n",
      "3 directories, 16 files\r\n"
     ]
    }
   ],
   "source": [
    "!tree .."
   ]
  },
  {
   "cell_type": "code",
   "execution_count": 91,
   "id": "484400ec",
   "metadata": {
    "ExecuteTime": {
     "end_time": "2021-10-17T18:43:25.646961Z",
     "start_time": "2021-10-17T18:43:25.359577Z"
    }
   },
   "outputs": [],
   "source": [
    "df = pd.read_csv(\"../Data/2021 10 17 5m.csv\", index_col = \"datetime\",)"
   ]
  },
  {
   "cell_type": "code",
   "execution_count": 92,
   "id": "d91894f2",
   "metadata": {
    "ExecuteTime": {
     "end_time": "2021-10-17T18:43:26.063530Z",
     "start_time": "2021-10-17T18:43:26.040391Z"
    }
   },
   "outputs": [
    {
     "ename": "AttributeError",
     "evalue": "'DataFrame' object has no attribute 'datetime'",
     "output_type": "error",
     "traceback": [
      "\u001b[0;31m---------------------------------------------------------------------------\u001b[0m",
      "\u001b[0;31mAttributeError\u001b[0m                            Traceback (most recent call last)",
      "\u001b[0;32m/tmp/ipykernel_4136/749196579.py\u001b[0m in \u001b[0;36m<module>\u001b[0;34m\u001b[0m\n\u001b[0;32m----> 1\u001b[0;31m \u001b[0mdf\u001b[0m\u001b[0;34m.\u001b[0m\u001b[0mdatetime\u001b[0m \u001b[0;34m=\u001b[0m \u001b[0;34m(\u001b[0m\u001b[0mpd\u001b[0m\u001b[0;34m.\u001b[0m\u001b[0mto_datetime\u001b[0m\u001b[0;34m(\u001b[0m\u001b[0mdf\u001b[0m\u001b[0;34m.\u001b[0m\u001b[0mdatetime\u001b[0m\u001b[0;34m,\u001b[0m \u001b[0mformat\u001b[0m \u001b[0;34m=\u001b[0m \u001b[0;34m\"%Y-%m-%d %H-%M\"\u001b[0m\u001b[0;34m)\u001b[0m\u001b[0;34m)\u001b[0m\u001b[0;34m\u001b[0m\u001b[0;34m\u001b[0m\u001b[0m\n\u001b[0m",
      "\u001b[0;32m~/.pyenv/versions/3.8.12/envs/lewagon/lib/python3.8/site-packages/pandas/core/generic.py\u001b[0m in \u001b[0;36m__getattr__\u001b[0;34m(self, name)\u001b[0m\n\u001b[1;32m   5485\u001b[0m         ):\n\u001b[1;32m   5486\u001b[0m             \u001b[0;32mreturn\u001b[0m \u001b[0mself\u001b[0m\u001b[0;34m[\u001b[0m\u001b[0mname\u001b[0m\u001b[0;34m]\u001b[0m\u001b[0;34m\u001b[0m\u001b[0;34m\u001b[0m\u001b[0m\n\u001b[0;32m-> 5487\u001b[0;31m         \u001b[0;32mreturn\u001b[0m \u001b[0mobject\u001b[0m\u001b[0;34m.\u001b[0m\u001b[0m__getattribute__\u001b[0m\u001b[0;34m(\u001b[0m\u001b[0mself\u001b[0m\u001b[0;34m,\u001b[0m \u001b[0mname\u001b[0m\u001b[0;34m)\u001b[0m\u001b[0;34m\u001b[0m\u001b[0;34m\u001b[0m\u001b[0m\n\u001b[0m\u001b[1;32m   5488\u001b[0m \u001b[0;34m\u001b[0m\u001b[0m\n\u001b[1;32m   5489\u001b[0m     \u001b[0;32mdef\u001b[0m \u001b[0m__setattr__\u001b[0m\u001b[0;34m(\u001b[0m\u001b[0mself\u001b[0m\u001b[0;34m,\u001b[0m \u001b[0mname\u001b[0m\u001b[0;34m:\u001b[0m \u001b[0mstr\u001b[0m\u001b[0;34m,\u001b[0m \u001b[0mvalue\u001b[0m\u001b[0;34m)\u001b[0m \u001b[0;34m->\u001b[0m \u001b[0;32mNone\u001b[0m\u001b[0;34m:\u001b[0m\u001b[0;34m\u001b[0m\u001b[0;34m\u001b[0m\u001b[0m\n",
      "\u001b[0;31mAttributeError\u001b[0m: 'DataFrame' object has no attribute 'datetime'"
     ]
    }
   ],
   "source": [
    "df.datetime = (pd.to_datetime(df.datetime, format = \"%Y-%m-%d %H-%M\"))"
   ]
  },
  {
   "cell_type": "code",
   "execution_count": 93,
   "id": "cacb97cf",
   "metadata": {
    "ExecuteTime": {
     "end_time": "2021-10-17T18:43:26.641915Z",
     "start_time": "2021-10-17T18:43:26.620759Z"
    }
   },
   "outputs": [
    {
     "name": "stdout",
     "output_type": "stream",
     "text": [
      "<class 'pandas.core.frame.DataFrame'>\n",
      "Index: 721728 entries, 2021-10-15 06-11 to 2021-10-17 06-35\n",
      "Data columns (total 4 columns):\n",
      " #   Column       Non-Null Count   Dtype  \n",
      "---  ------       --------------   -----  \n",
      " 0   stationCode  716000 non-null  float64\n",
      " 1   meca         716000 non-null  float64\n",
      " 2   elec         716000 non-null  float64\n",
      " 3   park         721728 non-null  int64  \n",
      "dtypes: float64(3), int64(1)\n",
      "memory usage: 27.5+ MB\n"
     ]
    }
   ],
   "source": [
    "df.info()"
   ]
  },
  {
   "cell_type": "code",
   "execution_count": 94,
   "id": "5d83cae0",
   "metadata": {
    "ExecuteTime": {
     "end_time": "2021-10-17T18:43:27.305772Z",
     "start_time": "2021-10-17T18:43:27.262991Z"
    }
   },
   "outputs": [
    {
     "data": {
      "text/html": [
       "<div>\n",
       "<style scoped>\n",
       "    .dataframe tbody tr th:only-of-type {\n",
       "        vertical-align: middle;\n",
       "    }\n",
       "\n",
       "    .dataframe tbody tr th {\n",
       "        vertical-align: top;\n",
       "    }\n",
       "\n",
       "    .dataframe thead th {\n",
       "        text-align: right;\n",
       "    }\n",
       "</style>\n",
       "<table border=\"1\" class=\"dataframe\">\n",
       "  <thead>\n",
       "    <tr style=\"text-align: right;\">\n",
       "      <th></th>\n",
       "      <th>stationCode</th>\n",
       "      <th>meca</th>\n",
       "      <th>elec</th>\n",
       "      <th>park</th>\n",
       "    </tr>\n",
       "    <tr>\n",
       "      <th>datetime</th>\n",
       "      <th></th>\n",
       "      <th></th>\n",
       "      <th></th>\n",
       "      <th></th>\n",
       "    </tr>\n",
       "  </thead>\n",
       "  <tbody>\n",
       "    <tr>\n",
       "      <th>2021-10-16 21-35</th>\n",
       "      <td>21704.0</td>\n",
       "      <td>21.0</td>\n",
       "      <td>0.0</td>\n",
       "      <td>5</td>\n",
       "    </tr>\n",
       "  </tbody>\n",
       "</table>\n",
       "</div>"
      ],
      "text/plain": [
       "                  stationCode  meca  elec  park\n",
       "datetime                                       \n",
       "2021-10-16 21-35      21704.0  21.0   0.0     5"
      ]
     },
     "execution_count": 94,
     "metadata": {},
     "output_type": "execute_result"
    }
   ],
   "source": [
    "df.sample()"
   ]
  },
  {
   "cell_type": "markdown",
   "id": "46331a57",
   "metadata": {},
   "source": [
    "# Null values"
   ]
  },
  {
   "cell_type": "code",
   "execution_count": 95,
   "id": "76605c38",
   "metadata": {
    "ExecuteTime": {
     "end_time": "2021-10-17T18:43:28.617737Z",
     "start_time": "2021-10-17T18:43:28.573487Z"
    }
   },
   "outputs": [
    {
     "data": {
      "text/html": [
       "<div>\n",
       "<style scoped>\n",
       "    .dataframe tbody tr th:only-of-type {\n",
       "        vertical-align: middle;\n",
       "    }\n",
       "\n",
       "    .dataframe tbody tr th {\n",
       "        vertical-align: top;\n",
       "    }\n",
       "\n",
       "    .dataframe thead th {\n",
       "        text-align: right;\n",
       "    }\n",
       "</style>\n",
       "<table border=\"1\" class=\"dataframe\">\n",
       "  <thead>\n",
       "    <tr style=\"text-align: right;\">\n",
       "      <th></th>\n",
       "      <th>stationCode</th>\n",
       "      <th>meca</th>\n",
       "      <th>elec</th>\n",
       "      <th>park</th>\n",
       "    </tr>\n",
       "    <tr>\n",
       "      <th>datetime</th>\n",
       "      <th></th>\n",
       "      <th></th>\n",
       "      <th></th>\n",
       "      <th></th>\n",
       "    </tr>\n",
       "  </thead>\n",
       "  <tbody>\n",
       "    <tr>\n",
       "      <th>2021-10-16 03-25</th>\n",
       "      <td>15108.0</td>\n",
       "      <td>16.0</td>\n",
       "      <td>4.0</td>\n",
       "      <td>1</td>\n",
       "    </tr>\n",
       "    <tr>\n",
       "      <th>2021-10-17 01-55</th>\n",
       "      <td>12039.0</td>\n",
       "      <td>31.0</td>\n",
       "      <td>1.0</td>\n",
       "      <td>4</td>\n",
       "    </tr>\n",
       "    <tr>\n",
       "      <th>2021-10-17 00-05</th>\n",
       "      <td>44006.0</td>\n",
       "      <td>6.0</td>\n",
       "      <td>10.0</td>\n",
       "      <td>17</td>\n",
       "    </tr>\n",
       "  </tbody>\n",
       "</table>\n",
       "</div>"
      ],
      "text/plain": [
       "                  stationCode  meca  elec  park\n",
       "datetime                                       \n",
       "2021-10-16 03-25      15108.0  16.0   4.0     1\n",
       "2021-10-17 01-55      12039.0  31.0   1.0     4\n",
       "2021-10-17 00-05      44006.0   6.0  10.0    17"
      ]
     },
     "execution_count": 95,
     "metadata": {},
     "output_type": "execute_result"
    }
   ],
   "source": [
    "df.sample(3)"
   ]
  },
  {
   "cell_type": "code",
   "execution_count": 96,
   "id": "1ec80c08",
   "metadata": {
    "ExecuteTime": {
     "end_time": "2021-10-17T18:43:29.242826Z",
     "start_time": "2021-10-17T18:43:29.227009Z"
    }
   },
   "outputs": [
    {
     "data": {
      "text/html": [
       "<div>\n",
       "<style scoped>\n",
       "    .dataframe tbody tr th:only-of-type {\n",
       "        vertical-align: middle;\n",
       "    }\n",
       "\n",
       "    .dataframe tbody tr th {\n",
       "        vertical-align: top;\n",
       "    }\n",
       "\n",
       "    .dataframe thead th {\n",
       "        text-align: right;\n",
       "    }\n",
       "</style>\n",
       "<table border=\"1\" class=\"dataframe\">\n",
       "  <thead>\n",
       "    <tr style=\"text-align: right;\">\n",
       "      <th></th>\n",
       "      <th>stationCode</th>\n",
       "      <th>meca</th>\n",
       "      <th>elec</th>\n",
       "      <th>park</th>\n",
       "    </tr>\n",
       "    <tr>\n",
       "      <th>datetime</th>\n",
       "      <th></th>\n",
       "      <th></th>\n",
       "      <th></th>\n",
       "      <th></th>\n",
       "    </tr>\n",
       "  </thead>\n",
       "  <tbody>\n",
       "    <tr>\n",
       "      <th>2021-10-16 13-40</th>\n",
       "      <td>NaN</td>\n",
       "      <td>NaN</td>\n",
       "      <td>NaN</td>\n",
       "      <td>29</td>\n",
       "    </tr>\n",
       "    <tr>\n",
       "      <th>2021-10-16 14-40</th>\n",
       "      <td>NaN</td>\n",
       "      <td>NaN</td>\n",
       "      <td>NaN</td>\n",
       "      <td>24</td>\n",
       "    </tr>\n",
       "    <tr>\n",
       "      <th>2021-10-16 15-40</th>\n",
       "      <td>NaN</td>\n",
       "      <td>NaN</td>\n",
       "      <td>NaN</td>\n",
       "      <td>4</td>\n",
       "    </tr>\n",
       "  </tbody>\n",
       "</table>\n",
       "</div>"
      ],
      "text/plain": [
       "                  stationCode  meca  elec  park\n",
       "datetime                                       \n",
       "2021-10-16 13-40          NaN   NaN   NaN    29\n",
       "2021-10-16 14-40          NaN   NaN   NaN    24\n",
       "2021-10-16 15-40          NaN   NaN   NaN     4"
      ]
     },
     "execution_count": 96,
     "metadata": {},
     "output_type": "execute_result"
    }
   ],
   "source": [
    "df[df.meca.isnull()].sample(3)"
   ]
  },
  {
   "cell_type": "code",
   "execution_count": 97,
   "id": "5ef1772e",
   "metadata": {
    "ExecuteTime": {
     "end_time": "2021-10-17T18:43:30.136072Z",
     "start_time": "2021-10-17T18:43:29.989591Z"
    },
    "scrolled": false
   },
   "outputs": [
    {
     "data": {
      "text/html": [
       "<div>\n",
       "<style scoped>\n",
       "    .dataframe tbody tr th:only-of-type {\n",
       "        vertical-align: middle;\n",
       "    }\n",
       "\n",
       "    .dataframe tbody tr th {\n",
       "        vertical-align: top;\n",
       "    }\n",
       "\n",
       "    .dataframe thead th {\n",
       "        text-align: right;\n",
       "    }\n",
       "</style>\n",
       "<table border=\"1\" class=\"dataframe\">\n",
       "  <thead>\n",
       "    <tr style=\"text-align: right;\">\n",
       "      <th></th>\n",
       "      <th>stationCode</th>\n",
       "      <th>meca</th>\n",
       "      <th>elec</th>\n",
       "      <th>park</th>\n",
       "    </tr>\n",
       "  </thead>\n",
       "  <tbody>\n",
       "    <tr>\n",
       "      <th>count</th>\n",
       "      <td>716000.000000</td>\n",
       "      <td>716000.000000</td>\n",
       "      <td>716000.000000</td>\n",
       "      <td>721728.000000</td>\n",
       "    </tr>\n",
       "    <tr>\n",
       "      <th>mean</th>\n",
       "      <td>18285.152933</td>\n",
       "      <td>7.567742</td>\n",
       "      <td>2.539289</td>\n",
       "      <td>19.728586</td>\n",
       "    </tr>\n",
       "    <tr>\n",
       "      <th>std</th>\n",
       "      <td>12064.891765</td>\n",
       "      <td>9.883795</td>\n",
       "      <td>2.700522</td>\n",
       "      <td>12.662771</td>\n",
       "    </tr>\n",
       "    <tr>\n",
       "      <th>min</th>\n",
       "      <td>1001.000000</td>\n",
       "      <td>0.000000</td>\n",
       "      <td>0.000000</td>\n",
       "      <td>0.000000</td>\n",
       "    </tr>\n",
       "    <tr>\n",
       "      <th>25%</th>\n",
       "      <td>11015.500000</td>\n",
       "      <td>1.000000</td>\n",
       "      <td>1.000000</td>\n",
       "      <td>11.000000</td>\n",
       "    </tr>\n",
       "    <tr>\n",
       "      <th>50%</th>\n",
       "      <td>16029.500000</td>\n",
       "      <td>4.000000</td>\n",
       "      <td>2.000000</td>\n",
       "      <td>19.000000</td>\n",
       "    </tr>\n",
       "    <tr>\n",
       "      <th>75%</th>\n",
       "      <td>21313.250000</td>\n",
       "      <td>11.000000</td>\n",
       "      <td>4.000000</td>\n",
       "      <td>27.000000</td>\n",
       "    </tr>\n",
       "    <tr>\n",
       "      <th>max</th>\n",
       "      <td>92008.000000</td>\n",
       "      <td>65.000000</td>\n",
       "      <td>26.000000</td>\n",
       "      <td>71.000000</td>\n",
       "    </tr>\n",
       "  </tbody>\n",
       "</table>\n",
       "</div>"
      ],
      "text/plain": [
       "         stationCode           meca           elec           park\n",
       "count  716000.000000  716000.000000  716000.000000  721728.000000\n",
       "mean    18285.152933       7.567742       2.539289      19.728586\n",
       "std     12064.891765       9.883795       2.700522      12.662771\n",
       "min      1001.000000       0.000000       0.000000       0.000000\n",
       "25%     11015.500000       1.000000       1.000000      11.000000\n",
       "50%     16029.500000       4.000000       2.000000      19.000000\n",
       "75%     21313.250000      11.000000       4.000000      27.000000\n",
       "max     92008.000000      65.000000      26.000000      71.000000"
      ]
     },
     "execution_count": 97,
     "metadata": {},
     "output_type": "execute_result"
    }
   ],
   "source": [
    "df.describe()"
   ]
  },
  {
   "cell_type": "code",
   "execution_count": 98,
   "id": "498db996",
   "metadata": {
    "ExecuteTime": {
     "end_time": "2021-10-17T18:43:30.699621Z",
     "start_time": "2021-10-17T18:43:30.682422Z"
    }
   },
   "outputs": [
    {
     "ename": "AttributeError",
     "evalue": "'DataFrame' object has no attribute 'datetime'",
     "output_type": "error",
     "traceback": [
      "\u001b[0;31m---------------------------------------------------------------------------\u001b[0m",
      "\u001b[0;31mAttributeError\u001b[0m                            Traceback (most recent call last)",
      "\u001b[0;32m/tmp/ipykernel_4136/4035203937.py\u001b[0m in \u001b[0;36m<module>\u001b[0;34m\u001b[0m\n\u001b[0;32m----> 1\u001b[0;31m \u001b[0mdf\u001b[0m\u001b[0;34m[\u001b[0m\u001b[0mdf\u001b[0m\u001b[0;34m.\u001b[0m\u001b[0mmeca\u001b[0m\u001b[0;34m.\u001b[0m\u001b[0misnull\u001b[0m\u001b[0;34m(\u001b[0m\u001b[0;34m)\u001b[0m \u001b[0;34m&\u001b[0m \u001b[0mdf\u001b[0m\u001b[0;34m.\u001b[0m\u001b[0mdatetime\u001b[0m \u001b[0;34m==\u001b[0m \u001b[0;34m'2021-10-16T12:40:00.000000000'\u001b[0m\u001b[0;34m]\u001b[0m\u001b[0;34m.\u001b[0m\u001b[0mmeca\u001b[0m\u001b[0;34m.\u001b[0m\u001b[0munique\u001b[0m\u001b[0;34m(\u001b[0m\u001b[0;34m)\u001b[0m\u001b[0;34m\u001b[0m\u001b[0;34m\u001b[0m\u001b[0m\n\u001b[0m",
      "\u001b[0;32m~/.pyenv/versions/3.8.12/envs/lewagon/lib/python3.8/site-packages/pandas/core/generic.py\u001b[0m in \u001b[0;36m__getattr__\u001b[0;34m(self, name)\u001b[0m\n\u001b[1;32m   5485\u001b[0m         ):\n\u001b[1;32m   5486\u001b[0m             \u001b[0;32mreturn\u001b[0m \u001b[0mself\u001b[0m\u001b[0;34m[\u001b[0m\u001b[0mname\u001b[0m\u001b[0;34m]\u001b[0m\u001b[0;34m\u001b[0m\u001b[0;34m\u001b[0m\u001b[0m\n\u001b[0;32m-> 5487\u001b[0;31m         \u001b[0;32mreturn\u001b[0m \u001b[0mobject\u001b[0m\u001b[0;34m.\u001b[0m\u001b[0m__getattribute__\u001b[0m\u001b[0;34m(\u001b[0m\u001b[0mself\u001b[0m\u001b[0;34m,\u001b[0m \u001b[0mname\u001b[0m\u001b[0;34m)\u001b[0m\u001b[0;34m\u001b[0m\u001b[0;34m\u001b[0m\u001b[0m\n\u001b[0m\u001b[1;32m   5488\u001b[0m \u001b[0;34m\u001b[0m\u001b[0m\n\u001b[1;32m   5489\u001b[0m     \u001b[0;32mdef\u001b[0m \u001b[0m__setattr__\u001b[0m\u001b[0;34m(\u001b[0m\u001b[0mself\u001b[0m\u001b[0;34m,\u001b[0m \u001b[0mname\u001b[0m\u001b[0;34m:\u001b[0m \u001b[0mstr\u001b[0m\u001b[0;34m,\u001b[0m \u001b[0mvalue\u001b[0m\u001b[0;34m)\u001b[0m \u001b[0;34m->\u001b[0m \u001b[0;32mNone\u001b[0m\u001b[0;34m:\u001b[0m\u001b[0;34m\u001b[0m\u001b[0;34m\u001b[0m\u001b[0m\n",
      "\u001b[0;31mAttributeError\u001b[0m: 'DataFrame' object has no attribute 'datetime'"
     ]
    }
   ],
   "source": [
    "df[df.meca.isnull() & df.datetime == '2021-10-16T12:40:00.000000000'].meca.unique()"
   ]
  },
  {
   "cell_type": "markdown",
   "id": "0df2c860",
   "metadata": {},
   "source": [
    "## Conclusions\n",
    "- lines with datetime, park and no Station Codes\n",
    "- they are linked to 4 unique times on October 16th: \n",
    "    - '2021-10-16T12:40:00.000000000', \n",
    "    - '2021-10-16T13:40:00.000000000',\n",
    "    - '2021-10-16T14:40:00.000000000', \n",
    "    - '2021-10-16T15:40:00.000000000'\n",
    "- "
   ]
  },
  {
   "cell_type": "markdown",
   "id": "4f5bec33",
   "metadata": {},
   "source": [
    "# Suite"
   ]
  },
  {
   "cell_type": "code",
   "execution_count": 101,
   "id": "1647fc07",
   "metadata": {
    "ExecuteTime": {
     "end_time": "2021-10-17T18:43:47.607735Z",
     "start_time": "2021-10-17T18:43:47.592187Z"
    }
   },
   "outputs": [
    {
     "ename": "TypeError",
     "evalue": "Index must be DatetimeIndex",
     "output_type": "error",
     "traceback": [
      "\u001b[0;31m---------------------------------------------------------------------------\u001b[0m",
      "\u001b[0;31mTypeError\u001b[0m                                 Traceback (most recent call last)",
      "\u001b[0;32m/tmp/ipykernel_4136/4047386690.py\u001b[0m in \u001b[0;36m<module>\u001b[0;34m\u001b[0m\n\u001b[0;32m----> 1\u001b[0;31m \u001b[0mdf\u001b[0m\u001b[0;34m.\u001b[0m\u001b[0mbetween_time\u001b[0m\u001b[0;34m(\u001b[0m\u001b[0;34m\"10-15 18:00\"\u001b[0m\u001b[0;34m,\u001b[0m \u001b[0;34m\"10-17 06 00\"\u001b[0m\u001b[0;34m)\u001b[0m\u001b[0;34m\u001b[0m\u001b[0;34m\u001b[0m\u001b[0m\n\u001b[0m",
      "\u001b[0;32m~/.pyenv/versions/3.8.12/envs/lewagon/lib/python3.8/site-packages/pandas/core/generic.py\u001b[0m in \u001b[0;36mbetween_time\u001b[0;34m(self, start_time, end_time, include_start, include_end, axis)\u001b[0m\n\u001b[1;32m   7702\u001b[0m         \u001b[0mindex\u001b[0m \u001b[0;34m=\u001b[0m \u001b[0mself\u001b[0m\u001b[0;34m.\u001b[0m\u001b[0m_get_axis\u001b[0m\u001b[0;34m(\u001b[0m\u001b[0maxis\u001b[0m\u001b[0;34m)\u001b[0m\u001b[0;34m\u001b[0m\u001b[0;34m\u001b[0m\u001b[0m\n\u001b[1;32m   7703\u001b[0m         \u001b[0;32mif\u001b[0m \u001b[0;32mnot\u001b[0m \u001b[0misinstance\u001b[0m\u001b[0;34m(\u001b[0m\u001b[0mindex\u001b[0m\u001b[0;34m,\u001b[0m \u001b[0mDatetimeIndex\u001b[0m\u001b[0;34m)\u001b[0m\u001b[0;34m:\u001b[0m\u001b[0;34m\u001b[0m\u001b[0;34m\u001b[0m\u001b[0m\n\u001b[0;32m-> 7704\u001b[0;31m             \u001b[0;32mraise\u001b[0m \u001b[0mTypeError\u001b[0m\u001b[0;34m(\u001b[0m\u001b[0;34m\"Index must be DatetimeIndex\"\u001b[0m\u001b[0;34m)\u001b[0m\u001b[0;34m\u001b[0m\u001b[0;34m\u001b[0m\u001b[0m\n\u001b[0m\u001b[1;32m   7705\u001b[0m \u001b[0;34m\u001b[0m\u001b[0m\n\u001b[1;32m   7706\u001b[0m         indexer = index.indexer_between_time(\n",
      "\u001b[0;31mTypeError\u001b[0m: Index must be DatetimeIndex"
     ]
    }
   ],
   "source": [
    "df.between_time(\"10-15 18:00\", \"10-17 06 00\")"
   ]
  },
  {
   "cell_type": "code",
   "execution_count": 102,
   "id": "f2464ba8",
   "metadata": {
    "ExecuteTime": {
     "end_time": "2021-10-17T18:44:30.393994Z",
     "start_time": "2021-10-17T18:44:21.894967Z"
    }
   },
   "outputs": [
    {
     "data": {
      "image/png": "[encoded data removed]",
      "text/plain": [
       "<Figure size 432x288 with 1 Axes>"
      ]
     },
     "metadata": {
      "needs_background": "light"
     },
     "output_type": "display_data"
    }
   ],
   "source": [
    "moyenne_meca = df.groupby(\"datetime\").mean()[\"meca\"]\n",
    "sns.scatterplot(data = moyenne_meca)\n",
    "ax = plt.gca()"
   ]
  },
  {
   "cell_type": "code",
   "execution_count": 103,
   "id": "c63338e7",
   "metadata": {
    "ExecuteTime": {
     "end_time": "2021-10-17T18:45:47.127627Z",
     "start_time": "2021-10-17T18:45:39.058702Z"
    }
   },
   "outputs": [
    {
     "data": {
      "image/png": "[encoded data removed]",
      "text/plain": [
       "<Figure size 432x288 with 1 Axes>"
      ]
     },
     "metadata": {
      "needs_background": "light"
     },
     "output_type": "display_data"
    }
   ],
   "source": [
    "moyenne_meca = df.groupby(\"datetime\").mean()[\"meca\"]\n",
    "sns.scatterplot(data = moyenne_meca)\n",
    "ax = plt.gca()\n",
    "plt.setp(ax.get_xticklabels(), ha=\"right\", rotation=45);"
   ]
  },
  {
   "cell_type": "code",
   "execution_count": 37,
   "id": "29738686",
   "metadata": {
    "ExecuteTime": {
     "end_time": "2021-10-17T05:45:30.486589Z",
     "start_time": "2021-10-17T05:45:30.475885Z"
    }
   },
   "outputs": [
    {
     "data": {
      "text/plain": [
       "dtype('O')"
      ]
     },
     "execution_count": 37,
     "metadata": {},
     "output_type": "execute_result"
    }
   ],
   "source": [
    "df.datetime.dtype"
   ]
  },
  {
   "cell_type": "code",
   "execution_count": 107,
   "id": "6c97922c",
   "metadata": {
    "ExecuteTime": {
     "end_time": "2021-10-17T18:48:08.504838Z",
     "start_time": "2021-10-17T18:48:08.352321Z"
    }
   },
   "outputs": [
    {
     "data": {
      "text/html": [
       "<div>\n",
       "<style scoped>\n",
       "    .dataframe tbody tr th:only-of-type {\n",
       "        vertical-align: middle;\n",
       "    }\n",
       "\n",
       "    .dataframe tbody tr th {\n",
       "        vertical-align: top;\n",
       "    }\n",
       "\n",
       "    .dataframe thead th {\n",
       "        text-align: right;\n",
       "    }\n",
       "</style>\n",
       "<table border=\"1\" class=\"dataframe\">\n",
       "  <thead>\n",
       "    <tr style=\"text-align: right;\">\n",
       "      <th></th>\n",
       "      <th>meca</th>\n",
       "      <th>elec</th>\n",
       "      <th>park</th>\n",
       "    </tr>\n",
       "    <tr>\n",
       "      <th>stationCode</th>\n",
       "      <th></th>\n",
       "      <th></th>\n",
       "      <th></th>\n",
       "    </tr>\n",
       "  </thead>\n",
       "  <tbody>\n",
       "    <tr>\n",
       "      <th>24003.0</th>\n",
       "      <td>0.000</td>\n",
       "      <td>0.000</td>\n",
       "      <td>0.000</td>\n",
       "    </tr>\n",
       "    <tr>\n",
       "      <th>31707.0</th>\n",
       "      <td>0.000</td>\n",
       "      <td>0.000</td>\n",
       "      <td>49.000</td>\n",
       "    </tr>\n",
       "    <tr>\n",
       "      <th>26009.0</th>\n",
       "      <td>0.000</td>\n",
       "      <td>0.000</td>\n",
       "      <td>0.000</td>\n",
       "    </tr>\n",
       "    <tr>\n",
       "      <th>12165.0</th>\n",
       "      <td>0.000</td>\n",
       "      <td>0.000</td>\n",
       "      <td>0.000</td>\n",
       "    </tr>\n",
       "    <tr>\n",
       "      <th>18112.0</th>\n",
       "      <td>0.000</td>\n",
       "      <td>0.000</td>\n",
       "      <td>26.000</td>\n",
       "    </tr>\n",
       "    <tr>\n",
       "      <th>...</th>\n",
       "      <td>...</td>\n",
       "      <td>...</td>\n",
       "      <td>...</td>\n",
       "    </tr>\n",
       "    <tr>\n",
       "      <th>15032.0</th>\n",
       "      <td>48.960</td>\n",
       "      <td>1.358</td>\n",
       "      <td>3.750</td>\n",
       "    </tr>\n",
       "    <tr>\n",
       "      <th>12106.0</th>\n",
       "      <td>50.576</td>\n",
       "      <td>4.588</td>\n",
       "      <td>5.666</td>\n",
       "    </tr>\n",
       "    <tr>\n",
       "      <th>13118.0</th>\n",
       "      <td>54.038</td>\n",
       "      <td>2.354</td>\n",
       "      <td>4.050</td>\n",
       "    </tr>\n",
       "    <tr>\n",
       "      <th>15030.0</th>\n",
       "      <td>56.500</td>\n",
       "      <td>5.840</td>\n",
       "      <td>5.168</td>\n",
       "    </tr>\n",
       "    <tr>\n",
       "      <th>15059.0</th>\n",
       "      <td>56.508</td>\n",
       "      <td>3.196</td>\n",
       "      <td>4.430</td>\n",
       "    </tr>\n",
       "  </tbody>\n",
       "</table>\n",
       "<p>1432 rows × 3 columns</p>\n",
       "</div>"
      ],
      "text/plain": [
       "               meca   elec    park\n",
       "stationCode                       \n",
       "24003.0       0.000  0.000   0.000\n",
       "31707.0       0.000  0.000  49.000\n",
       "26009.0       0.000  0.000   0.000\n",
       "12165.0       0.000  0.000   0.000\n",
       "18112.0       0.000  0.000  26.000\n",
       "...             ...    ...     ...\n",
       "15032.0      48.960  1.358   3.750\n",
       "12106.0      50.576  4.588   5.666\n",
       "13118.0      54.038  2.354   4.050\n",
       "15030.0      56.500  5.840   5.168\n",
       "15059.0      56.508  3.196   4.430\n",
       "\n",
       "[1432 rows x 3 columns]"
      ]
     },
     "execution_count": 107,
     "metadata": {},
     "output_type": "execute_result"
    }
   ],
   "source": [
    "df.groupby(\"stationCode\").mean().sort_values(by = \"meca\")"
   ]
  },
  {
   "cell_type": "code",
   "execution_count": null,
   "id": "4b03962b",
   "metadata": {},
   "outputs": [],
   "source": []
  }
 ],
 "metadata": {
  "kernelspec": {
   "display_name": "Python 3 (ipykernel)",
   "language": "python",
   "name": "python3"
  },
  "language_info": {
   "codemirror_mode": {
    "name": "ipython",
    "version": 3
   },
   "file_extension": ".py",
   "mimetype": "text/x-python",
   "name": "python",
   "nbconvert_exporter": "python",
   "pygments_lexer": "ipython3",
   "version": "3.8.12"
  }
 },
 "nbformat": 4,
 "nbformat_minor": 5
}
