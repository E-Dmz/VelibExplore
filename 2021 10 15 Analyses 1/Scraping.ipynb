{
 "cells": [
  {
   "cell_type": "code",
   "execution_count": 1,
   "id": "7680dafb",
   "metadata": {
    "ExecuteTime": {
     "end_time": "2021-10-23T19:53:21.620706Z",
     "start_time": "2021-10-23T19:53:20.146984Z"
    }
   },
   "outputs": [
    {
     "ename": "ModuleNotFoundError",
     "evalue": "No module named 'velib'",
     "output_type": "error",
     "traceback": [
      "\u001b[0;31m---------------------------------------------------------------------------\u001b[0m",
      "\u001b[0;31mModuleNotFoundError\u001b[0m                       Traceback (most recent call last)",
      "\u001b[0;32m/tmp/ipykernel_10077/681257671.py\u001b[0m in \u001b[0;36m<module>\u001b[0;34m\u001b[0m\n\u001b[1;32m      4\u001b[0m \u001b[0;32mimport\u001b[0m \u001b[0mdatetime\u001b[0m \u001b[0;32mas\u001b[0m \u001b[0mdt\u001b[0m\u001b[0;34m\u001b[0m\u001b[0;34m\u001b[0m\u001b[0m\n\u001b[1;32m      5\u001b[0m \u001b[0;32mimport\u001b[0m \u001b[0mnumpy\u001b[0m \u001b[0;32mas\u001b[0m \u001b[0mnp\u001b[0m\u001b[0;34m\u001b[0m\u001b[0;34m\u001b[0m\u001b[0m\n\u001b[0;32m----> 6\u001b[0;31m \u001b[0;32mimport\u001b[0m \u001b[0mvelib\u001b[0m\u001b[0;34m.\u001b[0m\u001b[0mdata\u001b[0m\u001b[0;34m\u001b[0m\u001b[0;34m\u001b[0m\u001b[0m\n\u001b[0m",
      "\u001b[0;31mModuleNotFoundError\u001b[0m: No module named 'velib'"
     ]
    }
   ],
   "source": [
    "import sys\n",
    "import requests\n",
    "import pandas as pd\n",
    "import datetime as dt\n",
    "import numpy as np"
   ]
  },
  {
   "cell_type": "code",
   "execution_count": 71,
   "id": "fbfeb595",
   "metadata": {
    "ExecuteTime": {
     "end_time": "2021-10-14T21:17:45.084781Z",
     "start_time": "2021-10-14T21:17:45.072423Z"
    }
   },
   "outputs": [
    {
     "data": {
      "text/plain": [
       "'/home/edmz/code/E-Dmz/Scripts/VelibScrap'"
      ]
     },
     "execution_count": 71,
     "metadata": {},
     "output_type": "execute_result"
    }
   ],
   "source": [
    "os.getcwd()"
   ]
  },
  {
   "cell_type": "code",
   "execution_count": 54,
   "id": "8f5d0076",
   "metadata": {
    "ExecuteTime": {
     "end_time": "2021-10-14T21:12:53.729017Z",
     "start_time": "2021-10-14T21:12:53.715919Z"
    }
   },
   "outputs": [],
   "source": [
    "URL_VELIB_STATUS = \"https://velib-metropole-opendata.smoove.pro/opendata/Velib_Metropole/station_status.json\"\n",
    "def get_velib_df():\n",
    "    response = requests.get(URL_VELIB_STATUS)\n",
    "    velib_df = (pd.DataFrame(response.json()[\"data\"][\"stations\"])\n",
    "                    .set_index(\"stationCode\"))\n",
    "    return velib_df"
   ]
  },
  {
   "cell_type": "code",
   "execution_count": 55,
   "id": "c0a0c4cf",
   "metadata": {
    "ExecuteTime": {
     "end_time": "2021-10-14T21:12:55.324813Z",
     "start_time": "2021-10-14T21:12:54.242904Z"
    }
   },
   "outputs": [
    {
     "data": {
      "text/html": [
       "<div>\n",
       "<style scoped>\n",
       "    .dataframe tbody tr th:only-of-type {\n",
       "        vertical-align: middle;\n",
       "    }\n",
       "\n",
       "    .dataframe tbody tr th {\n",
       "        vertical-align: top;\n",
       "    }\n",
       "\n",
       "    .dataframe thead th {\n",
       "        text-align: right;\n",
       "    }\n",
       "</style>\n",
       "<table border=\"1\" class=\"dataframe\">\n",
       "  <thead>\n",
       "    <tr style=\"text-align: right;\">\n",
       "      <th></th>\n",
       "      <th>station_id</th>\n",
       "      <th>num_bikes_available</th>\n",
       "      <th>numBikesAvailable</th>\n",
       "      <th>num_bikes_available_types</th>\n",
       "      <th>num_docks_available</th>\n",
       "      <th>numDocksAvailable</th>\n",
       "      <th>is_installed</th>\n",
       "      <th>is_returning</th>\n",
       "      <th>is_renting</th>\n",
       "      <th>last_reported</th>\n",
       "    </tr>\n",
       "    <tr>\n",
       "      <th>stationCode</th>\n",
       "      <th></th>\n",
       "      <th></th>\n",
       "      <th></th>\n",
       "      <th></th>\n",
       "      <th></th>\n",
       "      <th></th>\n",
       "      <th></th>\n",
       "      <th></th>\n",
       "      <th></th>\n",
       "      <th></th>\n",
       "    </tr>\n",
       "  </thead>\n",
       "  <tbody>\n",
       "    <tr>\n",
       "      <th>16107</th>\n",
       "      <td>213688169</td>\n",
       "      <td>2</td>\n",
       "      <td>2</td>\n",
       "      <td>[{'mechanical': 1}, {'ebike': 1}]</td>\n",
       "      <td>31</td>\n",
       "      <td>31</td>\n",
       "      <td>1</td>\n",
       "      <td>1</td>\n",
       "      <td>1</td>\n",
       "      <td>1634243715</td>\n",
       "    </tr>\n",
       "    <tr>\n",
       "      <th>11104</th>\n",
       "      <td>516709288</td>\n",
       "      <td>9</td>\n",
       "      <td>9</td>\n",
       "      <td>[{'mechanical': 8}, {'ebike': 1}]</td>\n",
       "      <td>10</td>\n",
       "      <td>10</td>\n",
       "      <td>1</td>\n",
       "      <td>1</td>\n",
       "      <td>1</td>\n",
       "      <td>1634243815</td>\n",
       "    </tr>\n",
       "  </tbody>\n",
       "</table>\n",
       "</div>"
      ],
      "text/plain": [
       "             station_id  num_bikes_available  numBikesAvailable  \\\n",
       "stationCode                                                       \n",
       "16107         213688169                    2                  2   \n",
       "11104         516709288                    9                  9   \n",
       "\n",
       "                     num_bikes_available_types  num_docks_available  \\\n",
       "stationCode                                                           \n",
       "16107        [{'mechanical': 1}, {'ebike': 1}]                   31   \n",
       "11104        [{'mechanical': 8}, {'ebike': 1}]                   10   \n",
       "\n",
       "             numDocksAvailable  is_installed  is_returning  is_renting  \\\n",
       "stationCode                                                              \n",
       "16107                       31             1             1           1   \n",
       "11104                       10             1             1           1   \n",
       "\n",
       "             last_reported  \n",
       "stationCode                 \n",
       "16107           1634243715  \n",
       "11104           1634243815  "
      ]
     },
     "execution_count": 55,
     "metadata": {},
     "output_type": "execute_result"
    }
   ],
   "source": [
    "raw_velib_df = get_velib_df()\n",
    "raw_velib_df.head(2)"
   ]
  },
  {
   "cell_type": "code",
   "execution_count": 63,
   "id": "569676e1",
   "metadata": {
    "ExecuteTime": {
     "end_time": "2021-10-14T21:15:11.234181Z",
     "start_time": "2021-10-14T21:15:11.129971Z"
    }
   },
   "outputs": [],
   "source": [
    "velib_df = raw_velib_df.copy()\n",
    "velib_df.reset_index(inplace = True)\n",
    "find_mecha = lambda row: row['num_bikes_available_types'][0].get('mechanical', np.nan)\n",
    "find_elec = lambda row: row['num_bikes_available_types'][1].get('ebike', np.nan)\n",
    "velib_df['meca'] = velib_df.apply(find_mecha, axis = 1)\n",
    "velib_df['elec'] = velib_df.apply(find_elec, axis = 1)\n",
    "velib_df['park'] = velib_df['num_docks_available']\n",
    "velib_df['datetime'] = dt.datetime.strftime(dt.datetime.now(), '%Y-%m-%d %H%M')\n",
    "velib_df = velib_df[['datetime', 'stationCode', 'meca', 'elec', 'park']]\n"
   ]
  },
  {
   "cell_type": "code",
   "execution_count": 73,
   "id": "5bde07e9",
   "metadata": {
    "ExecuteTime": {
     "end_time": "2021-10-14T21:19:42.481015Z",
     "start_time": "2021-10-14T21:19:42.470423Z"
    }
   },
   "outputs": [],
   "source": [
    "#velib_df.iloc[0:0,:].to_csv(\"test.csv\", index = False)"
   ]
  },
  {
   "cell_type": "code",
   "execution_count": 64,
   "id": "c90603ed",
   "metadata": {
    "ExecuteTime": {
     "end_time": "2021-10-14T21:15:15.752641Z",
     "start_time": "2021-10-14T21:15:15.733981Z"
    }
   },
   "outputs": [],
   "source": [
    "velib_df.to_csv('test.csv', mode='a', header=False, index = False)"
   ]
  },
  {
   "cell_type": "code",
   "execution_count": 7,
   "id": "8e096c58",
   "metadata": {
    "ExecuteTime": {
     "end_time": "2021-10-14T22:01:16.634818Z",
     "start_time": "2021-10-14T22:01:16.609274Z"
    }
   },
   "outputs": [],
   "source": [
    "df = pd.read_csv('test-15-1.csv')"
   ]
  },
  {
   "cell_type": "code",
   "execution_count": 8,
   "id": "7242fa32",
   "metadata": {
    "ExecuteTime": {
     "end_time": "2021-10-14T22:01:19.839798Z",
     "start_time": "2021-10-14T22:01:17.779513Z"
    }
   },
   "outputs": [
    {
     "data": {
      "text/html": [
       "<div>\n",
       "<style scoped>\n",
       "    .dataframe tbody tr th:only-of-type {\n",
       "        vertical-align: middle;\n",
       "    }\n",
       "\n",
       "    .dataframe tbody tr th {\n",
       "        vertical-align: top;\n",
       "    }\n",
       "\n",
       "    .dataframe thead th {\n",
       "        text-align: right;\n",
       "    }\n",
       "</style>\n",
       "<table border=\"1\" class=\"dataframe\">\n",
       "  <thead>\n",
       "    <tr style=\"text-align: right;\">\n",
       "      <th></th>\n",
       "      <th></th>\n",
       "      <th>meca</th>\n",
       "      <th>elec</th>\n",
       "      <th>park</th>\n",
       "    </tr>\n",
       "    <tr>\n",
       "      <th>datetime</th>\n",
       "      <th>stationCode</th>\n",
       "      <th></th>\n",
       "      <th></th>\n",
       "      <th></th>\n",
       "    </tr>\n",
       "  </thead>\n",
       "  <tbody>\n",
       "    <tr>\n",
       "      <th rowspan=\"5\" valign=\"top\">2021-10-14 2340</th>\n",
       "      <th>16107</th>\n",
       "      <td>0</td>\n",
       "      <td>1</td>\n",
       "      <td>32</td>\n",
       "    </tr>\n",
       "    <tr>\n",
       "      <th>11104</th>\n",
       "      <td>9</td>\n",
       "      <td>1</td>\n",
       "      <td>9</td>\n",
       "    </tr>\n",
       "    <tr>\n",
       "      <th>9020</th>\n",
       "      <td>9</td>\n",
       "      <td>2</td>\n",
       "      <td>10</td>\n",
       "    </tr>\n",
       "    <tr>\n",
       "      <th>12109</th>\n",
       "      <td>23</td>\n",
       "      <td>4</td>\n",
       "      <td>1</td>\n",
       "    </tr>\n",
       "    <tr>\n",
       "      <th>5001</th>\n",
       "      <td>2</td>\n",
       "      <td>0</td>\n",
       "      <td>41</td>\n",
       "    </tr>\n",
       "    <tr>\n",
       "      <th>...</th>\n",
       "      <th>...</th>\n",
       "      <td>...</td>\n",
       "      <td>...</td>\n",
       "      <td>...</td>\n",
       "    </tr>\n",
       "    <tr>\n",
       "      <th rowspan=\"5\" valign=\"top\">2021-10-14 2359</th>\n",
       "      <th>34012</th>\n",
       "      <td>0</td>\n",
       "      <td>0</td>\n",
       "      <td>26</td>\n",
       "    </tr>\n",
       "    <tr>\n",
       "      <th>26009</th>\n",
       "      <td>0</td>\n",
       "      <td>0</td>\n",
       "      <td>0</td>\n",
       "    </tr>\n",
       "    <tr>\n",
       "      <th>17126</th>\n",
       "      <td>10</td>\n",
       "      <td>4</td>\n",
       "      <td>15</td>\n",
       "    </tr>\n",
       "    <tr>\n",
       "      <th>32012</th>\n",
       "      <td>3</td>\n",
       "      <td>2</td>\n",
       "      <td>31</td>\n",
       "    </tr>\n",
       "    <tr>\n",
       "      <th>34005</th>\n",
       "      <td>12</td>\n",
       "      <td>16</td>\n",
       "      <td>2</td>\n",
       "    </tr>\n",
       "  </tbody>\n",
       "</table>\n",
       "<p>11456 rows × 3 columns</p>\n",
       "</div>"
      ],
      "text/plain": [
       "                             meca  elec  park\n",
       "datetime        stationCode                  \n",
       "2021-10-14 2340 16107           0     1    32\n",
       "                11104           9     1     9\n",
       "                9020            9     2    10\n",
       "                12109          23     4     1\n",
       "                5001            2     0    41\n",
       "...                           ...   ...   ...\n",
       "2021-10-14 2359 34012           0     0    26\n",
       "                26009           0     0     0\n",
       "                17126          10     4    15\n",
       "                32012           3     2    31\n",
       "                34005          12    16     2\n",
       "\n",
       "[11456 rows x 3 columns]"
      ]
     },
     "execution_count": 8,
     "metadata": {},
     "output_type": "execute_result"
    }
   ],
   "source": [
    "df.set_index(['datetime', 'stationCode'])"
   ]
  },
  {
   "cell_type": "code",
   "execution_count": 16,
   "id": "f36609ec",
   "metadata": {
    "ExecuteTime": {
     "end_time": "2021-10-14T22:05:30.561587Z",
     "start_time": "2021-10-14T22:05:29.890776Z"
    }
   },
   "outputs": [
    {
     "data": {
      "text/plain": [
       "<AxesSubplot:xlabel='datetime', ylabel='meca'>"
      ]
     },
     "execution_count": 16,
     "metadata": {},
     "output_type": "execute_result"
    },
    {
     "data": {
      "image/png": "[encoded data removed]",
      "text/plain": [
       "<Figure size 432x288 with 1 Axes>"
      ]
     },
     "metadata": {
      "needs_background": "light"
     },
     "output_type": "display_data"
    }
   ],
   "source": [
    "df[df.stationCode.isin([12008, 12009, 12106, 12011,])].plot(x = \"datetime\", y = \"meca\", kind = \"scatter\")"
   ]
  },
  {
   "cell_type": "code",
   "execution_count": null,
   "id": "b35629b0",
   "metadata": {},
   "outputs": [],
   "source": []
  }
 ],
 "metadata": {
  "kernelspec": {
   "display_name": "Python 3 (ipykernel)",
   "language": "python",
   "name": "python3"
  },
  "language_info": {
   "codemirror_mode": {
    "name": "ipython",
    "version": 3
   },
   "file_extension": ".py",
   "mimetype": "text/x-python",
   "name": "python",
   "nbconvert_exporter": "python",
   "pygments_lexer": "ipython3",
   "version": "3.8.12"
  },
  "toc": {
   "base_numbering": 1,
   "nav_menu": {},
   "number_sections": true,
   "sideBar": true,
   "skip_h1_title": false,
   "title_cell": "Table of Contents",
   "title_sidebar": "Contents",
   "toc_cell": false,
   "toc_position": {},
   "toc_section_display": true,
   "toc_window_display": false
  }
 },
 "nbformat": 4,
 "nbformat_minor": 5
}
