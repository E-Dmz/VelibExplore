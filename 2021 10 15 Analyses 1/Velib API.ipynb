{
 "cells": [
  {
   "cell_type": "code",
   "execution_count": 5,
   "id": "0ac3dee6",
   "metadata": {
    "ExecuteTime": {
     "end_time": "2021-10-23T19:57:01.002661Z",
     "start_time": "2021-10-23T19:57:00.938933Z"
    }
   },
   "outputs": [
    {
     "name": "stdout",
     "output_type": "stream",
     "text": [
      "The autoreload extension is already loaded. To reload it, use:\n",
      "  %reload_ext autoreload\n"
     ]
    }
   ],
   "source": [
    "%load_ext autoreload\n",
    "%autoreload 2\n",
    "\n",
    "import sys\n",
    "import requests\n",
    "import pandas as pd\n",
    "import datetime as dt\n",
    "\n",
    "import numpy as np\n",
    "from velib.data import Velib"
   ]
  },
  {
   "cell_type": "code",
   "execution_count": 6,
   "id": "6da63474",
   "metadata": {
    "ExecuteTime": {
     "end_time": "2021-10-23T19:57:03.035380Z",
     "start_time": "2021-10-23T19:57:02.600735Z"
    }
   },
   "outputs": [
    {
     "data": {
      "text/html": [
       "<div>\n",
       "<style scoped>\n",
       "    .dataframe tbody tr th:only-of-type {\n",
       "        vertical-align: middle;\n",
       "    }\n",
       "\n",
       "    .dataframe tbody tr th {\n",
       "        vertical-align: top;\n",
       "    }\n",
       "\n",
       "    .dataframe thead th {\n",
       "        text-align: right;\n",
       "    }\n",
       "</style>\n",
       "<table border=\"1\" class=\"dataframe\">\n",
       "  <thead>\n",
       "    <tr style=\"text-align: right;\">\n",
       "      <th></th>\n",
       "      <th>station_id</th>\n",
       "      <th>name</th>\n",
       "      <th>lat</th>\n",
       "      <th>lon</th>\n",
       "      <th>capacity</th>\n",
       "      <th>stationCode</th>\n",
       "      <th>rental_methods</th>\n",
       "    </tr>\n",
       "  </thead>\n",
       "  <tbody>\n",
       "    <tr>\n",
       "      <th>0</th>\n",
       "      <td>213688169</td>\n",
       "      <td>Benjamin Godard - Victor Hugo</td>\n",
       "      <td>48.865983</td>\n",
       "      <td>2.275725</td>\n",
       "      <td>35</td>\n",
       "      <td>16107</td>\n",
       "      <td>NaN</td>\n",
       "    </tr>\n",
       "    <tr>\n",
       "      <th>1</th>\n",
       "      <td>516709288</td>\n",
       "      <td>Charonne - Robert et Sonia Delauney</td>\n",
       "      <td>48.855908</td>\n",
       "      <td>2.392571</td>\n",
       "      <td>20</td>\n",
       "      <td>11104</td>\n",
       "      <td>NaN</td>\n",
       "    </tr>\n",
       "    <tr>\n",
       "      <th>2</th>\n",
       "      <td>36255</td>\n",
       "      <td>Toudouze - Clauzel</td>\n",
       "      <td>48.879296</td>\n",
       "      <td>2.337360</td>\n",
       "      <td>21</td>\n",
       "      <td>9020</td>\n",
       "      <td>[CREDITCARD]</td>\n",
       "    </tr>\n",
       "    <tr>\n",
       "      <th>3</th>\n",
       "      <td>37815204</td>\n",
       "      <td>Mairie du 12ème</td>\n",
       "      <td>48.840855</td>\n",
       "      <td>2.387555</td>\n",
       "      <td>30</td>\n",
       "      <td>12109</td>\n",
       "      <td>NaN</td>\n",
       "    </tr>\n",
       "    <tr>\n",
       "      <th>4</th>\n",
       "      <td>100769544</td>\n",
       "      <td>Harpe - Saint-Germain</td>\n",
       "      <td>48.851519</td>\n",
       "      <td>2.343670</td>\n",
       "      <td>46</td>\n",
       "      <td>5001</td>\n",
       "      <td>[CREDITCARD]</td>\n",
       "    </tr>\n",
       "    <tr>\n",
       "      <th>...</th>\n",
       "      <td>...</td>\n",
       "      <td>...</td>\n",
       "      <td>...</td>\n",
       "      <td>...</td>\n",
       "      <td>...</td>\n",
       "      <td>...</td>\n",
       "      <td>...</td>\n",
       "    </tr>\n",
       "    <tr>\n",
       "      <th>1432</th>\n",
       "      <td>13373801574</td>\n",
       "      <td>Gare RER</td>\n",
       "      <td>48.896241</td>\n",
       "      <td>2.459576</td>\n",
       "      <td>0</td>\n",
       "      <td>31301</td>\n",
       "      <td>[CREDITCARD]</td>\n",
       "    </tr>\n",
       "    <tr>\n",
       "      <th>1433</th>\n",
       "      <td>13373848216</td>\n",
       "      <td>Simone Signoret - Paris</td>\n",
       "      <td>48.903601</td>\n",
       "      <td>2.465407</td>\n",
       "      <td>0</td>\n",
       "      <td>31303</td>\n",
       "      <td>NaN</td>\n",
       "    </tr>\n",
       "    <tr>\n",
       "      <th>1434</th>\n",
       "      <td>13373758036</td>\n",
       "      <td>Roland Garros - Jean Bouin</td>\n",
       "      <td>48.809461</td>\n",
       "      <td>2.285320</td>\n",
       "      <td>0</td>\n",
       "      <td>23204</td>\n",
       "      <td>NaN</td>\n",
       "    </tr>\n",
       "    <tr>\n",
       "      <th>1435</th>\n",
       "      <td>315022587</td>\n",
       "      <td>Malesherbes - Place de la Madeleine</td>\n",
       "      <td>48.870406</td>\n",
       "      <td>2.323244</td>\n",
       "      <td>67</td>\n",
       "      <td>8004</td>\n",
       "      <td>[CREDITCARD]</td>\n",
       "    </tr>\n",
       "    <tr>\n",
       "      <th>1436</th>\n",
       "      <td>394404659</td>\n",
       "      <td>Gare Saint-Lazare - Cour du Havre</td>\n",
       "      <td>48.875674</td>\n",
       "      <td>2.326560</td>\n",
       "      <td>45</td>\n",
       "      <td>8002</td>\n",
       "      <td>[CREDITCARD]</td>\n",
       "    </tr>\n",
       "  </tbody>\n",
       "</table>\n",
       "<p>1437 rows × 7 columns</p>\n",
       "</div>"
      ],
      "text/plain": [
       "       station_id                                 name        lat       lon  \\\n",
       "0       213688169        Benjamin Godard - Victor Hugo  48.865983  2.275725   \n",
       "1       516709288  Charonne - Robert et Sonia Delauney  48.855908  2.392571   \n",
       "2           36255                   Toudouze - Clauzel  48.879296  2.337360   \n",
       "3        37815204                      Mairie du 12ème  48.840855  2.387555   \n",
       "4       100769544                Harpe - Saint-Germain  48.851519  2.343670   \n",
       "...           ...                                  ...        ...       ...   \n",
       "1432  13373801574                             Gare RER  48.896241  2.459576   \n",
       "1433  13373848216              Simone Signoret - Paris  48.903601  2.465407   \n",
       "1434  13373758036           Roland Garros - Jean Bouin  48.809461  2.285320   \n",
       "1435    315022587  Malesherbes - Place de la Madeleine  48.870406  2.323244   \n",
       "1436    394404659    Gare Saint-Lazare - Cour du Havre  48.875674  2.326560   \n",
       "\n",
       "      capacity stationCode rental_methods  \n",
       "0           35       16107            NaN  \n",
       "1           20       11104            NaN  \n",
       "2           21        9020   [CREDITCARD]  \n",
       "3           30       12109            NaN  \n",
       "4           46        5001   [CREDITCARD]  \n",
       "...        ...         ...            ...  \n",
       "1432         0       31301   [CREDITCARD]  \n",
       "1433         0       31303            NaN  \n",
       "1434         0       23204            NaN  \n",
       "1435        67        8004   [CREDITCARD]  \n",
       "1436        45        8002   [CREDITCARD]  \n",
       "\n",
       "[1437 rows x 7 columns]"
      ]
     },
     "execution_count": 6,
     "metadata": {},
     "output_type": "execute_result"
    }
   ],
   "source": [
    "Velib().get_stations_df()"
   ]
  },
  {
   "cell_type": "code",
   "execution_count": 7,
   "id": "e723b773",
   "metadata": {
    "ExecuteTime": {
     "end_time": "2021-10-23T20:01:05.466743Z",
     "start_time": "2021-10-23T20:01:05.101272Z"
    }
   },
   "outputs": [
    {
     "data": {
      "text/html": [
       "<div>\n",
       "<style scoped>\n",
       "    .dataframe tbody tr th:only-of-type {\n",
       "        vertical-align: middle;\n",
       "    }\n",
       "\n",
       "    .dataframe tbody tr th {\n",
       "        vertical-align: top;\n",
       "    }\n",
       "\n",
       "    .dataframe thead th {\n",
       "        text-align: right;\n",
       "    }\n",
       "</style>\n",
       "<table border=\"1\" class=\"dataframe\">\n",
       "  <thead>\n",
       "    <tr style=\"text-align: right;\">\n",
       "      <th></th>\n",
       "      <th>stationCode</th>\n",
       "      <th>station_id</th>\n",
       "      <th>num_bikes_available</th>\n",
       "      <th>numBikesAvailable</th>\n",
       "      <th>num_bikes_available_types</th>\n",
       "      <th>num_docks_available</th>\n",
       "      <th>numDocksAvailable</th>\n",
       "      <th>is_installed</th>\n",
       "      <th>is_returning</th>\n",
       "      <th>is_renting</th>\n",
       "      <th>last_reported</th>\n",
       "    </tr>\n",
       "  </thead>\n",
       "  <tbody>\n",
       "    <tr>\n",
       "      <th>0</th>\n",
       "      <td>16107</td>\n",
       "      <td>213688169</td>\n",
       "      <td>2</td>\n",
       "      <td>2</td>\n",
       "      <td>[{'mechanical': 0}, {'ebike': 2}]</td>\n",
       "      <td>32</td>\n",
       "      <td>32</td>\n",
       "      <td>1</td>\n",
       "      <td>1</td>\n",
       "      <td>1</td>\n",
       "      <td>1635016329</td>\n",
       "    </tr>\n",
       "    <tr>\n",
       "      <th>1</th>\n",
       "      <td>11104</td>\n",
       "      <td>516709288</td>\n",
       "      <td>3</td>\n",
       "      <td>3</td>\n",
       "      <td>[{'mechanical': 1}, {'ebike': 2}]</td>\n",
       "      <td>16</td>\n",
       "      <td>16</td>\n",
       "      <td>1</td>\n",
       "      <td>1</td>\n",
       "      <td>1</td>\n",
       "      <td>1635016164</td>\n",
       "    </tr>\n",
       "    <tr>\n",
       "      <th>2</th>\n",
       "      <td>9020</td>\n",
       "      <td>36255</td>\n",
       "      <td>4</td>\n",
       "      <td>4</td>\n",
       "      <td>[{'mechanical': 4}, {'ebike': 0}]</td>\n",
       "      <td>17</td>\n",
       "      <td>17</td>\n",
       "      <td>1</td>\n",
       "      <td>1</td>\n",
       "      <td>1</td>\n",
       "      <td>1635016217</td>\n",
       "    </tr>\n",
       "    <tr>\n",
       "      <th>3</th>\n",
       "      <td>12109</td>\n",
       "      <td>37815204</td>\n",
       "      <td>19</td>\n",
       "      <td>19</td>\n",
       "      <td>[{'mechanical': 14}, {'ebike': 5}]</td>\n",
       "      <td>8</td>\n",
       "      <td>8</td>\n",
       "      <td>1</td>\n",
       "      <td>1</td>\n",
       "      <td>1</td>\n",
       "      <td>1635016422</td>\n",
       "    </tr>\n",
       "    <tr>\n",
       "      <th>4</th>\n",
       "      <td>5001</td>\n",
       "      <td>100769544</td>\n",
       "      <td>31</td>\n",
       "      <td>31</td>\n",
       "      <td>[{'mechanical': 29}, {'ebike': 2}]</td>\n",
       "      <td>11</td>\n",
       "      <td>11</td>\n",
       "      <td>1</td>\n",
       "      <td>1</td>\n",
       "      <td>1</td>\n",
       "      <td>1635016404</td>\n",
       "    </tr>\n",
       "    <tr>\n",
       "      <th>...</th>\n",
       "      <td>...</td>\n",
       "      <td>...</td>\n",
       "      <td>...</td>\n",
       "      <td>...</td>\n",
       "      <td>...</td>\n",
       "      <td>...</td>\n",
       "      <td>...</td>\n",
       "      <td>...</td>\n",
       "      <td>...</td>\n",
       "      <td>...</td>\n",
       "      <td>...</td>\n",
       "    </tr>\n",
       "    <tr>\n",
       "      <th>1432</th>\n",
       "      <td>31301</td>\n",
       "      <td>13373801574</td>\n",
       "      <td>0</td>\n",
       "      <td>0</td>\n",
       "      <td>[{'mechanical': 0}, {'ebike': 0}]</td>\n",
       "      <td>0</td>\n",
       "      <td>0</td>\n",
       "      <td>0</td>\n",
       "      <td>0</td>\n",
       "      <td>0</td>\n",
       "      <td>1634892730</td>\n",
       "    </tr>\n",
       "    <tr>\n",
       "      <th>1433</th>\n",
       "      <td>31303</td>\n",
       "      <td>13373848216</td>\n",
       "      <td>0</td>\n",
       "      <td>0</td>\n",
       "      <td>[{'mechanical': 0}, {'ebike': 0}]</td>\n",
       "      <td>0</td>\n",
       "      <td>0</td>\n",
       "      <td>0</td>\n",
       "      <td>0</td>\n",
       "      <td>0</td>\n",
       "      <td>1634893195</td>\n",
       "    </tr>\n",
       "    <tr>\n",
       "      <th>1434</th>\n",
       "      <td>23204</td>\n",
       "      <td>13373758036</td>\n",
       "      <td>0</td>\n",
       "      <td>0</td>\n",
       "      <td>[{'mechanical': 0}, {'ebike': 0}]</td>\n",
       "      <td>0</td>\n",
       "      <td>0</td>\n",
       "      <td>0</td>\n",
       "      <td>0</td>\n",
       "      <td>0</td>\n",
       "      <td>1634892200</td>\n",
       "    </tr>\n",
       "    <tr>\n",
       "      <th>1435</th>\n",
       "      <td>8004</td>\n",
       "      <td>315022587</td>\n",
       "      <td>52</td>\n",
       "      <td>52</td>\n",
       "      <td>[{'mechanical': 48}, {'ebike': 4}]</td>\n",
       "      <td>15</td>\n",
       "      <td>15</td>\n",
       "      <td>1</td>\n",
       "      <td>1</td>\n",
       "      <td>1</td>\n",
       "      <td>1635016427</td>\n",
       "    </tr>\n",
       "    <tr>\n",
       "      <th>1436</th>\n",
       "      <td>8002</td>\n",
       "      <td>394404659</td>\n",
       "      <td>16</td>\n",
       "      <td>16</td>\n",
       "      <td>[{'mechanical': 7}, {'ebike': 9}]</td>\n",
       "      <td>28</td>\n",
       "      <td>28</td>\n",
       "      <td>1</td>\n",
       "      <td>1</td>\n",
       "      <td>1</td>\n",
       "      <td>1635016396</td>\n",
       "    </tr>\n",
       "  </tbody>\n",
       "</table>\n",
       "<p>1437 rows × 11 columns</p>\n",
       "</div>"
      ],
      "text/plain": [
       "     stationCode   station_id  num_bikes_available  numBikesAvailable  \\\n",
       "0          16107    213688169                    2                  2   \n",
       "1          11104    516709288                    3                  3   \n",
       "2           9020        36255                    4                  4   \n",
       "3          12109     37815204                   19                 19   \n",
       "4           5001    100769544                   31                 31   \n",
       "...          ...          ...                  ...                ...   \n",
       "1432       31301  13373801574                    0                  0   \n",
       "1433       31303  13373848216                    0                  0   \n",
       "1434       23204  13373758036                    0                  0   \n",
       "1435        8004    315022587                   52                 52   \n",
       "1436        8002    394404659                   16                 16   \n",
       "\n",
       "               num_bikes_available_types  num_docks_available  \\\n",
       "0      [{'mechanical': 0}, {'ebike': 2}]                   32   \n",
       "1      [{'mechanical': 1}, {'ebike': 2}]                   16   \n",
       "2      [{'mechanical': 4}, {'ebike': 0}]                   17   \n",
       "3     [{'mechanical': 14}, {'ebike': 5}]                    8   \n",
       "4     [{'mechanical': 29}, {'ebike': 2}]                   11   \n",
       "...                                  ...                  ...   \n",
       "1432   [{'mechanical': 0}, {'ebike': 0}]                    0   \n",
       "1433   [{'mechanical': 0}, {'ebike': 0}]                    0   \n",
       "1434   [{'mechanical': 0}, {'ebike': 0}]                    0   \n",
       "1435  [{'mechanical': 48}, {'ebike': 4}]                   15   \n",
       "1436   [{'mechanical': 7}, {'ebike': 9}]                   28   \n",
       "\n",
       "      numDocksAvailable  is_installed  is_returning  is_renting  last_reported  \n",
       "0                    32             1             1           1     1635016329  \n",
       "1                    16             1             1           1     1635016164  \n",
       "2                    17             1             1           1     1635016217  \n",
       "3                     8             1             1           1     1635016422  \n",
       "4                    11             1             1           1     1635016404  \n",
       "...                 ...           ...           ...         ...            ...  \n",
       "1432                  0             0             0           0     1634892730  \n",
       "1433                  0             0             0           0     1634893195  \n",
       "1434                  0             0             0           0     1634892200  \n",
       "1435                 15             1             1           1     1635016427  \n",
       "1436                 28             1             1           1     1635016396  \n",
       "\n",
       "[1437 rows x 11 columns]"
      ]
     },
     "execution_count": 7,
     "metadata": {},
     "output_type": "execute_result"
    }
   ],
   "source": [
    "Velib().get_velib_df()"
   ]
  },
  {
   "cell_type": "code",
   "execution_count": 6,
   "id": "30b7f2fd",
   "metadata": {
    "ExecuteTime": {
     "end_time": "2021-10-14T20:41:33.440695Z",
     "start_time": "2021-10-14T20:41:33.426595Z"
    }
   },
   "outputs": [],
   "source": [
    "URL_VELIB_STATUS = \"https://velib-metropole-opendata.smoove.pro/opendata/Velib_Metropole/station_status.json\"\n",
    "URL_VELIB_STATIONS = \"https://velib-metropole-opendata.smoove.pro/opendata/Velib_Metropole/station_information.json\"\n",
    "\n",
    "def get_velib_df():\n",
    "    response = requests.get(URL_VELIB_STATUS)\n",
    "    velib_df = (pd.DataFrame(response.json()[\"data\"][\"stations\"])\n",
    "                    .set_index(\"stationCode\"))\n",
    "    return velib_df\n",
    "\n",
    "def get_stations_df():\n",
    "    response = requests.get(URL_VELIB_STATIONS)\n",
    "    stations_df = (pd.DataFrame(response.json()[\"data\"][\"stations\"])\n",
    "                   .set_index(\"station_id\"))\n",
    "    return stations_df\n"
   ]
  },
  {
   "cell_type": "code",
   "execution_count": 25,
   "id": "9ebc7907",
   "metadata": {
    "ExecuteTime": {
     "end_time": "2021-10-13T21:04:31.122695Z",
     "start_time": "2021-10-13T21:04:30.790199Z"
    }
   },
   "outputs": [],
   "source": [
    "velib_df = get_velib_df()"
   ]
  },
  {
   "cell_type": "code",
   "execution_count": 26,
   "id": "dc2307ec",
   "metadata": {
    "ExecuteTime": {
     "end_time": "2021-10-13T21:04:31.919140Z",
     "start_time": "2021-10-13T21:04:31.906467Z"
    }
   },
   "outputs": [
    {
     "data": {
      "text/plain": [
       "(1432, 10)"
      ]
     },
     "execution_count": 26,
     "metadata": {},
     "output_type": "execute_result"
    }
   ],
   "source": [
    "velib_df.shape"
   ]
  },
  {
   "cell_type": "code",
   "execution_count": 37,
   "id": "a2944e18",
   "metadata": {
    "ExecuteTime": {
     "end_time": "2021-10-13T21:09:52.227011Z",
     "start_time": "2021-10-13T21:09:52.215192Z"
    }
   },
   "outputs": [
    {
     "data": {
      "text/plain": [
       "Index(['16107', '11104', '9020', '12109', '5001', '14014', '17026', '10013',\n",
       "       '8026', '14111',\n",
       "       ...\n",
       "       '23203', '32012', '17127', '34012', '21302', '8004', '26008', '26009',\n",
       "       '17126', '34005'],\n",
       "      dtype='object', name='stationCode', length=1432)"
      ]
     },
     "execution_count": 37,
     "metadata": {},
     "output_type": "execute_result"
    }
   ],
   "source": [
    "velib_df.index.unique()"
   ]
  },
  {
   "cell_type": "code",
   "execution_count": 21,
   "id": "c51127a7",
   "metadata": {
    "ExecuteTime": {
     "end_time": "2021-10-13T20:58:09.701546Z",
     "start_time": "2021-10-13T20:58:09.691611Z"
    }
   },
   "outputs": [],
   "source": [
    "def find_mecha(row):\n",
    "    return row['num_bikes_available_types'][0].get('mechanical', np.nan)\n",
    "def find_elec(row):\n",
    "    return row['num_bikes_available_types'][1].get('ebike', np.nan)"
   ]
  },
  {
   "cell_type": "code",
   "execution_count": 28,
   "id": "560dba56",
   "metadata": {
    "ExecuteTime": {
     "end_time": "2021-10-13T21:06:10.676296Z",
     "start_time": "2021-10-13T21:06:10.568004Z"
    }
   },
   "outputs": [],
   "source": [
    "velib_df['meca'] = velib_df.apply(find_mecha, axis = 1)\n",
    "velib_df['elec'] = velib_df.apply(find_elec, axis = 1)\n",
    "velib_df['park'] = velib_df['num_docks_available']\n",
    "velib_df['percent'] = velib_df['num_bikes_available']/(velib_df['num_bikes_available'] + velib_df['num_docks_available'])"
   ]
  },
  {
   "cell_type": "code",
   "execution_count": 36,
   "id": "e0f563c4",
   "metadata": {
    "ExecuteTime": {
     "end_time": "2021-10-13T21:08:36.685647Z",
     "start_time": "2021-10-13T21:08:36.670030Z"
    }
   },
   "outputs": [
    {
     "data": {
      "text/plain": [
       "512.180518753291"
      ]
     },
     "execution_count": 36,
     "metadata": {},
     "output_type": "execute_result"
    }
   ],
   "source": [
    "velib_df.percent.sum()"
   ]
  },
  {
   "cell_type": "code",
   "execution_count": 23,
   "id": "000f91e2",
   "metadata": {
    "ExecuteTime": {
     "end_time": "2021-10-13T20:58:56.037190Z",
     "start_time": "2021-10-13T20:58:56.026480Z"
    }
   },
   "outputs": [],
   "source": [
    "velib_df = velib_df[['station_id', 'meca', 'elec', 'park']]"
   ]
  },
  {
   "cell_type": "code",
   "execution_count": 24,
   "id": "2a95b148",
   "metadata": {
    "ExecuteTime": {
     "end_time": "2021-10-13T20:59:02.038809Z",
     "start_time": "2021-10-13T20:59:02.011853Z"
    }
   },
   "outputs": [
    {
     "data": {
      "text/html": [
       "<div>\n",
       "<style scoped>\n",
       "    .dataframe tbody tr th:only-of-type {\n",
       "        vertical-align: middle;\n",
       "    }\n",
       "\n",
       "    .dataframe tbody tr th {\n",
       "        vertical-align: top;\n",
       "    }\n",
       "\n",
       "    .dataframe thead th {\n",
       "        text-align: right;\n",
       "    }\n",
       "</style>\n",
       "<table border=\"1\" class=\"dataframe\">\n",
       "  <thead>\n",
       "    <tr style=\"text-align: right;\">\n",
       "      <th></th>\n",
       "      <th>station_id</th>\n",
       "      <th>meca</th>\n",
       "      <th>elec</th>\n",
       "      <th>park</th>\n",
       "    </tr>\n",
       "    <tr>\n",
       "      <th>stationCode</th>\n",
       "      <th></th>\n",
       "      <th></th>\n",
       "      <th></th>\n",
       "      <th></th>\n",
       "    </tr>\n",
       "  </thead>\n",
       "  <tbody>\n",
       "    <tr>\n",
       "      <th>16107</th>\n",
       "      <td>213688169</td>\n",
       "      <td>1</td>\n",
       "      <td>1</td>\n",
       "      <td>32</td>\n",
       "    </tr>\n",
       "    <tr>\n",
       "      <th>11104</th>\n",
       "      <td>516709288</td>\n",
       "      <td>2</td>\n",
       "      <td>3</td>\n",
       "      <td>14</td>\n",
       "    </tr>\n",
       "    <tr>\n",
       "      <th>9020</th>\n",
       "      <td>36255</td>\n",
       "      <td>10</td>\n",
       "      <td>3</td>\n",
       "      <td>8</td>\n",
       "    </tr>\n",
       "    <tr>\n",
       "      <th>12109</th>\n",
       "      <td>37815204</td>\n",
       "      <td>21</td>\n",
       "      <td>3</td>\n",
       "      <td>5</td>\n",
       "    </tr>\n",
       "    <tr>\n",
       "      <th>5001</th>\n",
       "      <td>100769544</td>\n",
       "      <td>14</td>\n",
       "      <td>3</td>\n",
       "      <td>27</td>\n",
       "    </tr>\n",
       "    <tr>\n",
       "      <th>...</th>\n",
       "      <td>...</td>\n",
       "      <td>...</td>\n",
       "      <td>...</td>\n",
       "      <td>...</td>\n",
       "    </tr>\n",
       "    <tr>\n",
       "      <th>8004</th>\n",
       "      <td>315022587</td>\n",
       "      <td>2</td>\n",
       "      <td>2</td>\n",
       "      <td>62</td>\n",
       "    </tr>\n",
       "    <tr>\n",
       "      <th>26008</th>\n",
       "      <td>11437761399</td>\n",
       "      <td>0</td>\n",
       "      <td>0</td>\n",
       "      <td>0</td>\n",
       "    </tr>\n",
       "    <tr>\n",
       "      <th>26009</th>\n",
       "      <td>11437961617</td>\n",
       "      <td>0</td>\n",
       "      <td>0</td>\n",
       "      <td>0</td>\n",
       "    </tr>\n",
       "    <tr>\n",
       "      <th>17126</th>\n",
       "      <td>11438049493</td>\n",
       "      <td>7</td>\n",
       "      <td>3</td>\n",
       "      <td>20</td>\n",
       "    </tr>\n",
       "    <tr>\n",
       "      <th>34005</th>\n",
       "      <td>11437651826</td>\n",
       "      <td>11</td>\n",
       "      <td>8</td>\n",
       "      <td>6</td>\n",
       "    </tr>\n",
       "  </tbody>\n",
       "</table>\n",
       "<p>1432 rows × 4 columns</p>\n",
       "</div>"
      ],
      "text/plain": [
       "              station_id  meca  elec  park\n",
       "stationCode                               \n",
       "16107          213688169     1     1    32\n",
       "11104          516709288     2     3    14\n",
       "9020               36255    10     3     8\n",
       "12109           37815204    21     3     5\n",
       "5001           100769544    14     3    27\n",
       "...                  ...   ...   ...   ...\n",
       "8004           315022587     2     2    62\n",
       "26008        11437761399     0     0     0\n",
       "26009        11437961617     0     0     0\n",
       "17126        11438049493     7     3    20\n",
       "34005        11437651826    11     8     6\n",
       "\n",
       "[1432 rows x 4 columns]"
      ]
     },
     "execution_count": 24,
     "metadata": {},
     "output_type": "execute_result"
    }
   ],
   "source": [
    "velib_df"
   ]
  },
  {
   "cell_type": "code",
   "execution_count": null,
   "id": "9487ace7",
   "metadata": {},
   "outputs": [],
   "source": []
  }
 ],
 "metadata": {
  "kernelspec": {
   "display_name": "Python 3 (ipykernel)",
   "language": "python",
   "name": "python3"
  },
  "language_info": {
   "codemirror_mode": {
    "name": "ipython",
    "version": 3
   },
   "file_extension": ".py",
   "mimetype": "text/x-python",
   "name": "python",
   "nbconvert_exporter": "python",
   "pygments_lexer": "ipython3",
   "version": "3.8.12"
  },
  "toc": {
   "base_numbering": 1,
   "nav_menu": {},
   "number_sections": true,
   "sideBar": true,
   "skip_h1_title": false,
   "title_cell": "Table of Contents",
   "title_sidebar": "Contents",
   "toc_cell": false,
   "toc_position": {},
   "toc_section_display": true,
   "toc_window_display": false
  }
 },
 "nbformat": 4,
 "nbformat_minor": 5
}
